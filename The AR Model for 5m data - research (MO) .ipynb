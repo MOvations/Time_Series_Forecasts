{
 "cells": [
  {
   "cell_type": "markdown",
   "metadata": {},
   "source": [
    " "
   ]
  },
  {
   "cell_type": "markdown",
   "metadata": {},
   "source": [
    "## Importing the relevant packages\n"
   ]
  },
  {
   "cell_type": "code",
   "execution_count": 1,
   "metadata": {},
   "outputs": [],
   "source": [
    "import pandas as pd\n",
    "import numpy as np\n",
    "import matplotlib.pyplot as plt\n",
    "import statsmodels.graphics.tsaplots as sgt\n",
    "import statsmodels.tsa.stattools as sts\n",
    "from statsmodels.tsa.arima_model import ARMA\n",
    "from scipy.stats.distributions import chi2\n",
    "from math import sqrt\n",
    "\n",
    "\n",
    "# from jupyterthemes import jtplot\n",
    "# jtplot.style(context='paper', grid=True, gridlines='--', fscale = 1.0, ticks=True)\n",
    "\n",
    "custom_style = {\n",
    "    \"axes.labelcolor\": \"#424a5a\",\n",
    "    \"grid.linestyle\": \"--\",\n",
    "    \"xtick.color\": \"#424a5a\",\n",
    "    \"ytick.color\": \"#424a5a\",\n",
    "}\n",
    "# custom_style = {'axes.axisbelow': True,\n",
    "#                'grid.color': '#424a5a'}\n",
    "import seaborn as sns\n",
    "\n",
    "sns.set(\n",
    "    context=\"notebook\",\n",
    "    palette=\"nipy_spectral\",\n",
    "    style=\"whitegrid\",\n",
    "    font=\"sans-serif\",\n",
    "    font_scale=1,\n",
    "    color_codes=True,\n",
    "    rc=custom_style,\n",
    ")\n",
    "\n",
    "# These need to go after seaborn setttings:\n",
    "# plt.style.use('seaborn-whitegrid')  #Best for White Backgrounds\n",
    "plt.style.use(\"dark_background\")  # Best for Black Backgrounds\n",
    "\n",
    "# test 'Palette'\n",
    "sns.palplot(sns.color_palette(\"nipy_spectral\", 25))\n",
    "# rocket YlGn plasma inferno pastel bright colorblind style='darkgrid',"
   ]
  },
  {
   "cell_type": "markdown",
   "metadata": {},
   "source": [
    " "
   ]
  },
  {
   "cell_type": "markdown",
   "metadata": {},
   "source": [
    "## Importing the Data and Pre-processing "
   ]
  },
  {
   "cell_type": "code",
   "execution_count": 2,
   "metadata": {},
   "outputs": [
    {
     "data": {
      "text/html": [
       "<div>\n",
       "<style scoped>\n",
       "    .dataframe tbody tr th:only-of-type {\n",
       "        vertical-align: middle;\n",
       "    }\n",
       "\n",
       "    .dataframe tbody tr th {\n",
       "        vertical-align: top;\n",
       "    }\n",
       "\n",
       "    .dataframe thead th {\n",
       "        text-align: right;\n",
       "    }\n",
       "</style>\n",
       "<table border=\"1\" class=\"dataframe\">\n",
       "  <thead>\n",
       "    <tr style=\"text-align: right;\">\n",
       "      <th></th>\n",
       "      <th>Timestamp</th>\n",
       "      <th>SPY</th>\n",
       "      <th>DJI</th>\n",
       "      <th>RUT</th>\n",
       "      <th>GSPC</th>\n",
       "      <th>NVDA</th>\n",
       "      <th>FB</th>\n",
       "      <th>NPTN</th>\n",
       "      <th>MYO</th>\n",
       "      <th>SDOW</th>\n",
       "      <th>...</th>\n",
       "      <th>XOP</th>\n",
       "      <th>LEN</th>\n",
       "      <th>HL</th>\n",
       "      <th>ARRY</th>\n",
       "      <th>ITA</th>\n",
       "      <th>ADVM</th>\n",
       "      <th>TEUM</th>\n",
       "      <th>VALE</th>\n",
       "      <th>MIY</th>\n",
       "      <th>BKX</th>\n",
       "    </tr>\n",
       "  </thead>\n",
       "  <tbody>\n",
       "    <tr>\n",
       "      <th>0</th>\n",
       "      <td>7/5/2019 19:55</td>\n",
       "      <td>297.890015</td>\n",
       "      <td>26925.58008</td>\n",
       "      <td>1574.360840</td>\n",
       "      <td>2990.679932</td>\n",
       "      <td>159.985001</td>\n",
       "      <td>196.149994</td>\n",
       "      <td>4.34</td>\n",
       "      <td>NaN</td>\n",
       "      <td>47.91</td>\n",
       "      <td>...</td>\n",
       "      <td>26.385000</td>\n",
       "      <td>48.279999</td>\n",
       "      <td>1.7136</td>\n",
       "      <td>46.875000</td>\n",
       "      <td>214.559998</td>\n",
       "      <td>12.15</td>\n",
       "      <td>2.850</td>\n",
       "      <td>13.129</td>\n",
       "      <td>13.87</td>\n",
       "      <td>99.636597</td>\n",
       "    </tr>\n",
       "    <tr>\n",
       "      <th>1</th>\n",
       "      <td>2019-07-05 19:50</td>\n",
       "      <td>297.924988</td>\n",
       "      <td>26894.14063</td>\n",
       "      <td>1574.448242</td>\n",
       "      <td>2986.830078</td>\n",
       "      <td>159.994995</td>\n",
       "      <td>196.389999</td>\n",
       "      <td>4.34</td>\n",
       "      <td>NaN</td>\n",
       "      <td>47.91</td>\n",
       "      <td>...</td>\n",
       "      <td>26.385000</td>\n",
       "      <td>48.240002</td>\n",
       "      <td>1.7200</td>\n",
       "      <td>46.930000</td>\n",
       "      <td>214.250000</td>\n",
       "      <td>12.12</td>\n",
       "      <td>2.830</td>\n",
       "      <td>13.110</td>\n",
       "      <td>13.87</td>\n",
       "      <td>99.411598</td>\n",
       "    </tr>\n",
       "    <tr>\n",
       "      <th>2</th>\n",
       "      <td>2019-07-05 19:45</td>\n",
       "      <td>298.079987</td>\n",
       "      <td>26911.43945</td>\n",
       "      <td>1574.404541</td>\n",
       "      <td>2988.780029</td>\n",
       "      <td>159.902298</td>\n",
       "      <td>196.740005</td>\n",
       "      <td>4.36</td>\n",
       "      <td>NaN</td>\n",
       "      <td>47.82</td>\n",
       "      <td>...</td>\n",
       "      <td>26.360001</td>\n",
       "      <td>48.200001</td>\n",
       "      <td>1.7300</td>\n",
       "      <td>46.915001</td>\n",
       "      <td>214.419998</td>\n",
       "      <td>12.13</td>\n",
       "      <td>2.855</td>\n",
       "      <td>13.110</td>\n",
       "      <td>13.86</td>\n",
       "      <td>99.519096</td>\n",
       "    </tr>\n",
       "    <tr>\n",
       "      <th>3</th>\n",
       "      <td>2019-07-05 19:40</td>\n",
       "      <td>298.049988</td>\n",
       "      <td>26907.55078</td>\n",
       "      <td>1573.938477</td>\n",
       "      <td>2988.479980</td>\n",
       "      <td>160.009995</td>\n",
       "      <td>196.779999</td>\n",
       "      <td>4.38</td>\n",
       "      <td>NaN</td>\n",
       "      <td>47.84</td>\n",
       "      <td>...</td>\n",
       "      <td>26.379999</td>\n",
       "      <td>48.195702</td>\n",
       "      <td>1.7250</td>\n",
       "      <td>46.904999</td>\n",
       "      <td>214.309998</td>\n",
       "      <td>12.14</td>\n",
       "      <td>2.855</td>\n",
       "      <td>13.095</td>\n",
       "      <td>13.85</td>\n",
       "      <td>99.527100</td>\n",
       "    </tr>\n",
       "    <tr>\n",
       "      <th>4</th>\n",
       "      <td>2019-07-05 19:35</td>\n",
       "      <td>298.109985</td>\n",
       "      <td>26907.92969</td>\n",
       "      <td>1574.398804</td>\n",
       "      <td>2989.070068</td>\n",
       "      <td>159.910004</td>\n",
       "      <td>196.779999</td>\n",
       "      <td>4.38</td>\n",
       "      <td>NaN</td>\n",
       "      <td>47.84</td>\n",
       "      <td>...</td>\n",
       "      <td>26.400000</td>\n",
       "      <td>48.230000</td>\n",
       "      <td>1.7300</td>\n",
       "      <td>46.904999</td>\n",
       "      <td>214.339996</td>\n",
       "      <td>12.19</td>\n",
       "      <td>2.830</td>\n",
       "      <td>13.085</td>\n",
       "      <td>13.85</td>\n",
       "      <td>99.568802</td>\n",
       "    </tr>\n",
       "  </tbody>\n",
       "</table>\n",
       "<p>5 rows × 58 columns</p>\n",
       "</div>"
      ],
      "text/plain": [
       "          Timestamp         SPY          DJI          RUT         GSPC  \\\n",
       "0    7/5/2019 19:55  297.890015  26925.58008  1574.360840  2990.679932   \n",
       "1  2019-07-05 19:50  297.924988  26894.14063  1574.448242  2986.830078   \n",
       "2  2019-07-05 19:45  298.079987  26911.43945  1574.404541  2988.780029   \n",
       "3  2019-07-05 19:40  298.049988  26907.55078  1573.938477  2988.479980   \n",
       "4  2019-07-05 19:35  298.109985  26907.92969  1574.398804  2989.070068   \n",
       "\n",
       "         NVDA          FB  NPTN  MYO   SDOW  ...        XOP        LEN  \\\n",
       "0  159.985001  196.149994  4.34  NaN  47.91  ...  26.385000  48.279999   \n",
       "1  159.994995  196.389999  4.34  NaN  47.91  ...  26.385000  48.240002   \n",
       "2  159.902298  196.740005  4.36  NaN  47.82  ...  26.360001  48.200001   \n",
       "3  160.009995  196.779999  4.38  NaN  47.84  ...  26.379999  48.195702   \n",
       "4  159.910004  196.779999  4.38  NaN  47.84  ...  26.400000  48.230000   \n",
       "\n",
       "       HL       ARRY         ITA   ADVM   TEUM    VALE    MIY        BKX  \n",
       "0  1.7136  46.875000  214.559998  12.15  2.850  13.129  13.87  99.636597  \n",
       "1  1.7200  46.930000  214.250000  12.12  2.830  13.110  13.87  99.411598  \n",
       "2  1.7300  46.915001  214.419998  12.13  2.855  13.110  13.86  99.519096  \n",
       "3  1.7250  46.904999  214.309998  12.14  2.855  13.095  13.85  99.527100  \n",
       "4  1.7300  46.904999  214.339996  12.19  2.830  13.085  13.85  99.568802  \n",
       "\n",
       "[5 rows x 58 columns]"
      ]
     },
     "execution_count": 2,
     "metadata": {},
     "output_type": "execute_result"
    }
   ],
   "source": [
    "# raw_csv_data = pd.read_csv(\"Index2018.csv\") \n",
    "raw_csv_data = pd.read_csv(\"Close Price - 2019-07-07 5m.csv\") \n",
    "\n",
    "# Copy raw data to a new dataframe\n",
    "df_comp=raw_csv_data.copy()\n",
    "\n",
    "# Convert timestamp to an official datetime\n",
    "# df_comp.Timestamp = pd.to_datetime(df_comp.Timestamp, dayfirst=True) + pd.Timedelta(hours=-4)\n",
    "\n",
    "# Set the index to the 'Timestamp'\n",
    "# df_comp.set_index(\"Timestamp\", inplace=True)\n",
    "\n",
    "# df_comp=df_comp.asfreq('B')\n",
    "# df_comp.resample('B')\n",
    "# df_comp=df_comp.fillna(method='ffill')\n",
    "\n",
    "# Check for null values\n",
    "# df_comp.isnull().sum()\n",
    "\n",
    "df_comp.head()\n"
   ]
  },
  {
   "cell_type": "code",
   "execution_count": 3,
   "metadata": {},
   "outputs": [],
   "source": [
    "# reduce to just indicies of interest, for now\n",
    "df_comp = df_comp[['SPY']]\n",
    "# df_comp.head()"
   ]
  },
  {
   "cell_type": "code",
   "execution_count": 4,
   "metadata": {},
   "outputs": [],
   "source": [
    "df_spy = df_comp.copy()"
   ]
  },
  {
   "cell_type": "code",
   "execution_count": 5,
   "metadata": {},
   "outputs": [
    {
     "data": {
      "text/html": [
       "<div>\n",
       "<style scoped>\n",
       "    .dataframe tbody tr th:only-of-type {\n",
       "        vertical-align: middle;\n",
       "    }\n",
       "\n",
       "    .dataframe tbody tr th {\n",
       "        vertical-align: top;\n",
       "    }\n",
       "\n",
       "    .dataframe thead th {\n",
       "        text-align: right;\n",
       "    }\n",
       "</style>\n",
       "<table border=\"1\" class=\"dataframe\">\n",
       "  <thead>\n",
       "    <tr style=\"text-align: right;\">\n",
       "      <th></th>\n",
       "      <th>SPY</th>\n",
       "    </tr>\n",
       "  </thead>\n",
       "  <tbody>\n",
       "    <tr>\n",
       "      <th>0</th>\n",
       "      <td>297.890015</td>\n",
       "    </tr>\n",
       "    <tr>\n",
       "      <th>1</th>\n",
       "      <td>297.924988</td>\n",
       "    </tr>\n",
       "    <tr>\n",
       "      <th>2</th>\n",
       "      <td>298.079987</td>\n",
       "    </tr>\n",
       "    <tr>\n",
       "      <th>3</th>\n",
       "      <td>298.049988</td>\n",
       "    </tr>\n",
       "    <tr>\n",
       "      <th>4</th>\n",
       "      <td>298.109985</td>\n",
       "    </tr>\n",
       "    <tr>\n",
       "      <th>5</th>\n",
       "      <td>298.209992</td>\n",
       "    </tr>\n",
       "    <tr>\n",
       "      <th>6</th>\n",
       "      <td>298.350006</td>\n",
       "    </tr>\n",
       "    <tr>\n",
       "      <th>7</th>\n",
       "      <td>298.369995</td>\n",
       "    </tr>\n",
       "    <tr>\n",
       "      <th>8</th>\n",
       "      <td>298.160004</td>\n",
       "    </tr>\n",
       "    <tr>\n",
       "      <th>9</th>\n",
       "      <td>298.252502</td>\n",
       "    </tr>\n",
       "  </tbody>\n",
       "</table>\n",
       "</div>"
      ],
      "text/plain": [
       "          SPY\n",
       "0  297.890015\n",
       "1  297.924988\n",
       "2  298.079987\n",
       "3  298.049988\n",
       "4  298.109985\n",
       "5  298.209992\n",
       "6  298.350006\n",
       "7  298.369995\n",
       "8  298.160004\n",
       "9  298.252502"
      ]
     },
     "execution_count": 5,
     "metadata": {},
     "output_type": "execute_result"
    }
   ],
   "source": [
    "# del df_comp['spx']\n",
    "# del df_comp['dax']\n",
    "# del df_comp['ftse']\n",
    "# del df_comp['nikkei']\n",
    "size = int(len(df_spy)*0.8)\n",
    "df, df_test = df_spy.iloc[:size], df_spy.iloc[size:]\n",
    "df.head(10)"
   ]
  },
  {
   "cell_type": "markdown",
   "metadata": {},
   "source": [
    " "
   ]
  },
  {
   "cell_type": "markdown",
   "metadata": {},
   "source": [
    "## LLR Test"
   ]
  },
  {
   "cell_type": "code",
   "execution_count": 6,
   "metadata": {},
   "outputs": [],
   "source": [
    "def LLR_test(mod_1, mod_2, DF=1):\n",
    "    '''Tests Log Likelyhood for significance, based on RESULTS of ARIMA model,\n",
    "    Passing the model now causes failure do to .fit() transforming the data'''\n",
    "    L1 = mod_1.llf\n",
    "    L2 = mod_2.llf\n",
    "    LR = (2*(L2-L1))\n",
    "    p = chi2.sf(LR, DF).round(3)\n",
    "    return p"
   ]
  },
  {
   "cell_type": "markdown",
   "metadata": {},
   "source": [
    " "
   ]
  },
  {
   "cell_type": "markdown",
   "metadata": {},
   "source": [
    "## The DF-Test"
   ]
  },
  {
   "cell_type": "code",
   "execution_count": 7,
   "metadata": {
    "scrolled": true
   },
   "outputs": [
    {
     "data": {
      "text/plain": [
       "(-2.0191993639927808,\n",
       " 0.2782188091468473,\n",
       " 7,\n",
       " 3708,\n",
       " {'1%': -3.432114787687694,\n",
       "  '5%': -2.862319785536031,\n",
       "  '10%': -2.5671850910332363},\n",
       " 1091.1017743465118)"
      ]
     },
     "execution_count": 7,
     "metadata": {},
     "output_type": "execute_result"
    }
   ],
   "source": [
    "sts.adfuller(df.SPY)"
   ]
  },
  {
   "cell_type": "code",
   "execution_count": 8,
   "metadata": {},
   "outputs": [
    {
     "data": {
      "text/html": [
       "<div>\n",
       "<style scoped>\n",
       "    .dataframe tbody tr th:only-of-type {\n",
       "        vertical-align: middle;\n",
       "    }\n",
       "\n",
       "    .dataframe tbody tr th {\n",
       "        vertical-align: top;\n",
       "    }\n",
       "\n",
       "    .dataframe thead th {\n",
       "        text-align: right;\n",
       "    }\n",
       "</style>\n",
       "<table border=\"1\" class=\"dataframe\">\n",
       "  <thead>\n",
       "    <tr style=\"text-align: right;\">\n",
       "      <th></th>\n",
       "      <th>SPY</th>\n",
       "    </tr>\n",
       "  </thead>\n",
       "  <tbody>\n",
       "    <tr>\n",
       "      <th>0</th>\n",
       "      <td>297.890015</td>\n",
       "    </tr>\n",
       "    <tr>\n",
       "      <th>1</th>\n",
       "      <td>297.924988</td>\n",
       "    </tr>\n",
       "    <tr>\n",
       "      <th>2</th>\n",
       "      <td>298.079987</td>\n",
       "    </tr>\n",
       "    <tr>\n",
       "      <th>3</th>\n",
       "      <td>298.049988</td>\n",
       "    </tr>\n",
       "    <tr>\n",
       "      <th>4</th>\n",
       "      <td>298.109985</td>\n",
       "    </tr>\n",
       "  </tbody>\n",
       "</table>\n",
       "</div>"
      ],
      "text/plain": [
       "          SPY\n",
       "0  297.890015\n",
       "1  297.924988\n",
       "2  298.079987\n",
       "3  298.049988\n",
       "4  298.109985"
      ]
     },
     "execution_count": 8,
     "metadata": {},
     "output_type": "execute_result"
    }
   ],
   "source": [
    "df.head()"
   ]
  },
  {
   "cell_type": "markdown",
   "metadata": {},
   "source": [
    "## Using Returns"
   ]
  },
  {
   "cell_type": "code",
   "execution_count": 9,
   "metadata": {},
   "outputs": [
    {
     "name": "stderr",
     "output_type": "stream",
     "text": [
      "C:\\Users\\markh\\Anaconda3\\lib\\site-packages\\ipykernel_launcher.py:1: SettingWithCopyWarning: \n",
      "A value is trying to be set on a copy of a slice from a DataFrame.\n",
      "Try using .loc[row_indexer,col_indexer] = value instead\n",
      "\n",
      "See the caveats in the documentation: http://pandas.pydata.org/pandas-docs/stable/user_guide/indexing.html#returning-a-view-versus-a-copy\n",
      "  \"\"\"Entry point for launching an IPython kernel.\n"
     ]
    }
   ],
   "source": [
    "df['returns'] = df.SPY.pct_change(1).mul(100)\n",
    "df = df.iloc[1:]"
   ]
  },
  {
   "cell_type": "code",
   "execution_count": 10,
   "metadata": {},
   "outputs": [
    {
     "data": {
      "text/plain": [
       "(-22.32274292949508,\n",
       " 0.0,\n",
       " 6,\n",
       " 3708,\n",
       " {'1%': -3.432114787687694,\n",
       "  '5%': -2.862319785536031,\n",
       "  '10%': -2.5671850910332363},\n",
       " -6655.466531407528)"
      ]
     },
     "execution_count": 10,
     "metadata": {},
     "output_type": "execute_result"
    }
   ],
   "source": [
    "sts.adfuller(df.returns)"
   ]
  },
  {
   "cell_type": "code",
   "execution_count": 11,
   "metadata": {},
   "outputs": [
    {
     "data": {
      "image/png": "[encoded data removed]",
      "text/plain": [
       "<Figure size 1440x576 with 1 Axes>"
      ]
     },
     "metadata": {
      "needs_background": "dark"
     },
     "output_type": "display_data"
    }
   ],
   "source": [
    "df.returns.plot(y='returns', figsize=(20,8));\n"
   ]
  },
  {
   "cell_type": "code",
   "execution_count": 12,
   "metadata": {},
   "outputs": [],
   "source": [
    "# mini = df.returns.mean() - df.returns.std()\n",
    "# maxi = df.returns.mean() + df.returns.std()\n",
    "# print(\"The Min is: {0} \\tThe Max is:{1}\".format(mini, maxi))\n",
    "\n",
    "# df[df.returns < mini] = mini\n",
    "# df[df.returns > maxi] = maxi\n",
    "# df.returns.plot(y='returns', figsize=(20,8))\n",
    "\n",
    "# # df[df['SPY'] < mini] = mini\n",
    "# # df[df['SPY'] > maxi] = maxi\n",
    "# # df.pct_change().plot(y='SPY', figsize=(20,8));"
   ]
  },
  {
   "cell_type": "markdown",
   "metadata": {},
   "source": [
    "## ACF and PACF for Returns"
   ]
  },
  {
   "cell_type": "code",
   "execution_count": 13,
   "metadata": {},
   "outputs": [
    {
     "data": {
      "image/png": "[encoded data removed]",
      "text/plain": [
       "<Figure size 432x288 with 1 Axes>"
      ]
     },
     "metadata": {
      "needs_background": "dark"
     },
     "output_type": "display_data"
    }
   ],
   "source": [
    "sgt.plot_acf(df.returns, lags=40, zero = False)\n",
    "plt.title(\"ACF FTSE Returns\", size=24)\n",
    "plt.show()"
   ]
  },
  {
   "cell_type": "code",
   "execution_count": 14,
   "metadata": {},
   "outputs": [
    {
     "data": {
      "image/png": "[encoded data removed]",
      "text/plain": [
       "<Figure size 432x288 with 1 Axes>"
      ]
     },
     "metadata": {
      "needs_background": "dark"
     },
     "output_type": "display_data"
    }
   ],
   "source": [
    "sgt.plot_pacf(df.returns, lags = 40, zero = False, method = ('ols'))\n",
    "plt.title(\"PACF FTSE Returns\", size=24)\n",
    "plt.show()"
   ]
  },
  {
   "cell_type": "markdown",
   "metadata": {},
   "source": [
    "## AR(1) for Returns"
   ]
  },
  {
   "cell_type": "code",
   "execution_count": 15,
   "metadata": {},
   "outputs": [],
   "source": [
    "model_ret_ar_1 = ARMA(df.returns, order = (1,0))"
   ]
  },
  {
   "cell_type": "code",
   "execution_count": 16,
   "metadata": {},
   "outputs": [],
   "source": [
    "results_ret_ar_1 = model_ret_ar_1.fit()"
   ]
  },
  {
   "cell_type": "code",
   "execution_count": 17,
   "metadata": {},
   "outputs": [
    {
     "data": {
      "text/html": [
       "<table class=\"simpletable\">\n",
       "<caption>ARMA Model Results</caption>\n",
       "<tr>\n",
       "  <th>Dep. Variable:</th>      <td>returns</td>     <th>  No. Observations:  </th>   <td>3715</td>   \n",
       "</tr>\n",
       "<tr>\n",
       "  <th>Model:</th>            <td>ARMA(1, 0)</td>    <th>  Log Likelihood     </th> <td>3366.197</td> \n",
       "</tr>\n",
       "<tr>\n",
       "  <th>Method:</th>             <td>css-mle</td>     <th>  S.D. of innovations</th>   <td>0.098</td>  \n",
       "</tr>\n",
       "<tr>\n",
       "  <th>Date:</th>          <td>Thu, 10 Oct 2019</td> <th>  AIC                </th> <td>-6726.393</td>\n",
       "</tr>\n",
       "<tr>\n",
       "  <th>Time:</th>              <td>09:10:56</td>     <th>  BIC                </th> <td>-6707.733</td>\n",
       "</tr>\n",
       "<tr>\n",
       "  <th>Sample:</th>                <td>0</td>        <th>  HQIC               </th> <td>-6719.754</td>\n",
       "</tr>\n",
       "<tr>\n",
       "  <th></th>                       <td> </td>        <th>                     </th>     <td> </td>    \n",
       "</tr>\n",
       "</table>\n",
       "<table class=\"simpletable\">\n",
       "<tr>\n",
       "        <td></td>           <th>coef</th>     <th>std err</th>      <th>z</th>      <th>P>|z|</th>  <th>[0.025</th>    <th>0.975]</th>  \n",
       "</tr>\n",
       "<tr>\n",
       "  <th>const</th>         <td>   -0.0004</td> <td>    0.002</td> <td>   -0.260</td> <td> 0.795</td> <td>   -0.004</td> <td>    0.003</td>\n",
       "</tr>\n",
       "<tr>\n",
       "  <th>ar.L1.returns</th> <td>   -0.0141</td> <td>    0.016</td> <td>   -0.861</td> <td> 0.389</td> <td>   -0.046</td> <td>    0.018</td>\n",
       "</tr>\n",
       "</table>\n",
       "<table class=\"simpletable\">\n",
       "<caption>Roots</caption>\n",
       "<tr>\n",
       "    <td></td>   <th>            Real</th>  <th>         Imaginary</th> <th>         Modulus</th>  <th>        Frequency</th>\n",
       "</tr>\n",
       "<tr>\n",
       "  <th>AR.1</th> <td>         -70.7799</td> <td>          +0.0000j</td> <td>          70.7799</td> <td>           0.5000</td>\n",
       "</tr>\n",
       "</table>"
      ],
      "text/plain": [
       "<class 'statsmodels.iolib.summary.Summary'>\n",
       "\"\"\"\n",
       "                              ARMA Model Results                              \n",
       "==============================================================================\n",
       "Dep. Variable:                returns   No. Observations:                 3715\n",
       "Model:                     ARMA(1, 0)   Log Likelihood                3366.197\n",
       "Method:                       css-mle   S.D. of innovations              0.098\n",
       "Date:                Thu, 10 Oct 2019   AIC                          -6726.393\n",
       "Time:                        09:10:56   BIC                          -6707.733\n",
       "Sample:                             0   HQIC                         -6719.754\n",
       "                                                                              \n",
       "=================================================================================\n",
       "                    coef    std err          z      P>|z|      [0.025      0.975]\n",
       "---------------------------------------------------------------------------------\n",
       "const            -0.0004      0.002     -0.260      0.795      -0.004       0.003\n",
       "ar.L1.returns    -0.0141      0.016     -0.861      0.389      -0.046       0.018\n",
       "                                    Roots                                    \n",
       "=============================================================================\n",
       "                  Real          Imaginary           Modulus         Frequency\n",
       "-----------------------------------------------------------------------------\n",
       "AR.1          -70.7799           +0.0000j           70.7799            0.5000\n",
       "-----------------------------------------------------------------------------\n",
       "\"\"\""
      ]
     },
     "execution_count": 17,
     "metadata": {},
     "output_type": "execute_result"
    }
   ],
   "source": [
    "results_ret_ar_1.summary()"
   ]
  },
  {
   "cell_type": "markdown",
   "metadata": {},
   "source": [
    "## Higher-Lag AR Models for Returns"
   ]
  },
  {
   "cell_type": "markdown",
   "metadata": {},
   "source": [
    "Interesting thing here, after running .fit() the model is converted to a bunch of constants, so...\n",
    "not sure how to mitigate that for passing to the LLF function\n",
    "\n",
    "[THIS](https://machinelearningmastery.com/tune-arima-parameters-python/) may be interesting to look into"
   ]
  },
  {
   "cell_type": "code",
   "execution_count": 18,
   "metadata": {},
   "outputs": [
    {
     "name": "stdout",
     "output_type": "stream",
     "text": [
      "<statsmodels.tsa.arima_model.ARMA object at 0x000001FCFB278898>\n",
      "<statsmodels.tsa.arima_model.ARMA object at 0x000001FCFB278898>\n"
     ]
    },
    {
     "data": {
      "text/html": [
       "<table class=\"simpletable\">\n",
       "<caption>ARMA Model Results</caption>\n",
       "<tr>\n",
       "  <th>Dep. Variable:</th>      <td>returns</td>     <th>  No. Observations:  </th>   <td>3715</td>   \n",
       "</tr>\n",
       "<tr>\n",
       "  <th>Model:</th>            <td>ARMA(2, 0)</td>    <th>  Log Likelihood     </th> <td>3368.035</td> \n",
       "</tr>\n",
       "<tr>\n",
       "  <th>Method:</th>             <td>css-mle</td>     <th>  S.D. of innovations</th>   <td>0.098</td>  \n",
       "</tr>\n",
       "<tr>\n",
       "  <th>Date:</th>          <td>Thu, 10 Oct 2019</td> <th>  AIC                </th> <td>-6728.071</td>\n",
       "</tr>\n",
       "<tr>\n",
       "  <th>Time:</th>              <td>09:10:56</td>     <th>  BIC                </th> <td>-6703.190</td>\n",
       "</tr>\n",
       "<tr>\n",
       "  <th>Sample:</th>                <td>0</td>        <th>  HQIC               </th> <td>-6719.218</td>\n",
       "</tr>\n",
       "<tr>\n",
       "  <th></th>                       <td> </td>        <th>                     </th>     <td> </td>    \n",
       "</tr>\n",
       "</table>\n",
       "<table class=\"simpletable\">\n",
       "<tr>\n",
       "        <td></td>           <th>coef</th>     <th>std err</th>      <th>z</th>      <th>P>|z|</th>  <th>[0.025</th>    <th>0.975]</th>  \n",
       "</tr>\n",
       "<tr>\n",
       "  <th>const</th>         <td>   -0.0004</td> <td>    0.002</td> <td>   -0.252</td> <td> 0.801</td> <td>   -0.004</td> <td>    0.003</td>\n",
       "</tr>\n",
       "<tr>\n",
       "  <th>ar.L1.returns</th> <td>   -0.0137</td> <td>    0.016</td> <td>   -0.834</td> <td> 0.404</td> <td>   -0.046</td> <td>    0.018</td>\n",
       "</tr>\n",
       "<tr>\n",
       "  <th>ar.L2.returns</th> <td>    0.0315</td> <td>    0.016</td> <td>    1.918</td> <td> 0.055</td> <td>   -0.001</td> <td>    0.064</td>\n",
       "</tr>\n",
       "</table>\n",
       "<table class=\"simpletable\">\n",
       "<caption>Roots</caption>\n",
       "<tr>\n",
       "    <td></td>   <th>            Real</th>  <th>         Imaginary</th> <th>         Modulus</th>  <th>        Frequency</th>\n",
       "</tr>\n",
       "<tr>\n",
       "  <th>AR.1</th> <td>          -5.4255</td> <td>          +0.0000j</td> <td>           5.4255</td> <td>           0.5000</td>\n",
       "</tr>\n",
       "<tr>\n",
       "  <th>AR.2</th> <td>           5.8605</td> <td>          +0.0000j</td> <td>           5.8605</td> <td>           0.0000</td>\n",
       "</tr>\n",
       "</table>"
      ],
      "text/plain": [
       "<class 'statsmodels.iolib.summary.Summary'>\n",
       "\"\"\"\n",
       "                              ARMA Model Results                              \n",
       "==============================================================================\n",
       "Dep. Variable:                returns   No. Observations:                 3715\n",
       "Model:                     ARMA(2, 0)   Log Likelihood                3368.035\n",
       "Method:                       css-mle   S.D. of innovations              0.098\n",
       "Date:                Thu, 10 Oct 2019   AIC                          -6728.071\n",
       "Time:                        09:10:56   BIC                          -6703.190\n",
       "Sample:                             0   HQIC                         -6719.218\n",
       "                                                                              \n",
       "=================================================================================\n",
       "                    coef    std err          z      P>|z|      [0.025      0.975]\n",
       "---------------------------------------------------------------------------------\n",
       "const            -0.0004      0.002     -0.252      0.801      -0.004       0.003\n",
       "ar.L1.returns    -0.0137      0.016     -0.834      0.404      -0.046       0.018\n",
       "ar.L2.returns     0.0315      0.016      1.918      0.055      -0.001       0.064\n",
       "                                    Roots                                    \n",
       "=============================================================================\n",
       "                  Real          Imaginary           Modulus         Frequency\n",
       "-----------------------------------------------------------------------------\n",
       "AR.1           -5.4255           +0.0000j            5.4255            0.5000\n",
       "AR.2            5.8605           +0.0000j            5.8605            0.0000\n",
       "-----------------------------------------------------------------------------\n",
       "\"\"\""
      ]
     },
     "execution_count": 18,
     "metadata": {},
     "output_type": "execute_result"
    }
   ],
   "source": [
    "# model_ret_ar_2 = ARMA(df.returns, order = (2,0), freq='5min')\n",
    "model_ret_ar_2 = ARMA(df.returns, order = (2,0))\n",
    "print(model_ret_ar_2)\n",
    "results_ret_ar_2 = model_ret_ar_2.fit()\n",
    "print(model_ret_ar_2)\n",
    "results_ret_ar_2.summary()"
   ]
  },
  {
   "cell_type": "code",
   "execution_count": 19,
   "metadata": {},
   "outputs": [
    {
     "data": {
      "text/plain": [
       "3368.0352893555473"
      ]
     },
     "execution_count": 19,
     "metadata": {},
     "output_type": "execute_result"
    }
   ],
   "source": [
    "results_ret_ar_2.llf"
   ]
  },
  {
   "cell_type": "code",
   "execution_count": 20,
   "metadata": {},
   "outputs": [],
   "source": [
    "# model_ret_ar_2.fit().llf  #<-- no longer works"
   ]
  },
  {
   "cell_type": "code",
   "execution_count": 21,
   "metadata": {},
   "outputs": [
    {
     "data": {
      "text/plain": [
       "0.055"
      ]
     },
     "execution_count": 21,
     "metadata": {},
     "output_type": "execute_result"
    }
   ],
   "source": [
    "LLR_test(results_ret_ar_1, results_ret_ar_2)"
   ]
  },
  {
   "cell_type": "code",
   "execution_count": 22,
   "metadata": {},
   "outputs": [
    {
     "data": {
      "text/html": [
       "<table class=\"simpletable\">\n",
       "<caption>ARMA Model Results</caption>\n",
       "<tr>\n",
       "  <th>Dep. Variable:</th>      <td>returns</td>     <th>  No. Observations:  </th>   <td>3715</td>   \n",
       "</tr>\n",
       "<tr>\n",
       "  <th>Model:</th>            <td>ARMA(3, 0)</td>    <th>  Log Likelihood     </th> <td>3368.041</td> \n",
       "</tr>\n",
       "<tr>\n",
       "  <th>Method:</th>             <td>css-mle</td>     <th>  S.D. of innovations</th>   <td>0.098</td>  \n",
       "</tr>\n",
       "<tr>\n",
       "  <th>Date:</th>          <td>Thu, 10 Oct 2019</td> <th>  AIC                </th> <td>-6726.083</td>\n",
       "</tr>\n",
       "<tr>\n",
       "  <th>Time:</th>              <td>09:10:57</td>     <th>  BIC                </th> <td>-6694.982</td>\n",
       "</tr>\n",
       "<tr>\n",
       "  <th>Sample:</th>                <td>0</td>        <th>  HQIC               </th> <td>-6715.017</td>\n",
       "</tr>\n",
       "<tr>\n",
       "  <th></th>                       <td> </td>        <th>                     </th>     <td> </td>    \n",
       "</tr>\n",
       "</table>\n",
       "<table class=\"simpletable\">\n",
       "<tr>\n",
       "        <td></td>           <th>coef</th>     <th>std err</th>      <th>z</th>      <th>P>|z|</th>  <th>[0.025</th>    <th>0.975]</th>  \n",
       "</tr>\n",
       "<tr>\n",
       "  <th>const</th>         <td>   -0.0004</td> <td>    0.002</td> <td>   -0.252</td> <td> 0.801</td> <td>   -0.004</td> <td>    0.003</td>\n",
       "</tr>\n",
       "<tr>\n",
       "  <th>ar.L1.returns</th> <td>   -0.0137</td> <td>    0.016</td> <td>   -0.837</td> <td> 0.402</td> <td>   -0.046</td> <td>    0.018</td>\n",
       "</tr>\n",
       "<tr>\n",
       "  <th>ar.L2.returns</th> <td>    0.0315</td> <td>    0.016</td> <td>    1.919</td> <td> 0.055</td> <td>   -0.001</td> <td>    0.064</td>\n",
       "</tr>\n",
       "<tr>\n",
       "  <th>ar.L3.returns</th> <td>    0.0018</td> <td>    0.016</td> <td>    0.110</td> <td> 0.913</td> <td>   -0.030</td> <td>    0.034</td>\n",
       "</tr>\n",
       "</table>\n",
       "<table class=\"simpletable\">\n",
       "<caption>Roots</caption>\n",
       "<tr>\n",
       "    <td></td>   <th>            Real</th>  <th>         Imaginary</th> <th>         Modulus</th>  <th>        Frequency</th>\n",
       "</tr>\n",
       "<tr>\n",
       "  <th>AR.1</th> <td>           5.1281</td> <td>          +0.0000j</td> <td>           5.1281</td> <td>           0.0000</td>\n",
       "</tr>\n",
       "<tr>\n",
       "  <th>AR.2</th> <td>          -6.8891</td> <td>          +0.0000j</td> <td>           6.8891</td> <td>           0.5000</td>\n",
       "</tr>\n",
       "<tr>\n",
       "  <th>AR.3</th> <td>         -15.7276</td> <td>          +0.0000j</td> <td>          15.7276</td> <td>           0.5000</td>\n",
       "</tr>\n",
       "</table>"
      ],
      "text/plain": [
       "<class 'statsmodels.iolib.summary.Summary'>\n",
       "\"\"\"\n",
       "                              ARMA Model Results                              \n",
       "==============================================================================\n",
       "Dep. Variable:                returns   No. Observations:                 3715\n",
       "Model:                     ARMA(3, 0)   Log Likelihood                3368.041\n",
       "Method:                       css-mle   S.D. of innovations              0.098\n",
       "Date:                Thu, 10 Oct 2019   AIC                          -6726.083\n",
       "Time:                        09:10:57   BIC                          -6694.982\n",
       "Sample:                             0   HQIC                         -6715.017\n",
       "                                                                              \n",
       "=================================================================================\n",
       "                    coef    std err          z      P>|z|      [0.025      0.975]\n",
       "---------------------------------------------------------------------------------\n",
       "const            -0.0004      0.002     -0.252      0.801      -0.004       0.003\n",
       "ar.L1.returns    -0.0137      0.016     -0.837      0.402      -0.046       0.018\n",
       "ar.L2.returns     0.0315      0.016      1.919      0.055      -0.001       0.064\n",
       "ar.L3.returns     0.0018      0.016      0.110      0.913      -0.030       0.034\n",
       "                                    Roots                                    \n",
       "=============================================================================\n",
       "                  Real          Imaginary           Modulus         Frequency\n",
       "-----------------------------------------------------------------------------\n",
       "AR.1            5.1281           +0.0000j            5.1281            0.0000\n",
       "AR.2           -6.8891           +0.0000j            6.8891            0.5000\n",
       "AR.3          -15.7276           +0.0000j           15.7276            0.5000\n",
       "-----------------------------------------------------------------------------\n",
       "\"\"\""
      ]
     },
     "execution_count": 22,
     "metadata": {},
     "output_type": "execute_result"
    }
   ],
   "source": [
    "model_ret_ar_3 = ARMA(df.returns, order = (3,0))\n",
    "results_ret_ar_3 = model_ret_ar_3.fit()\n",
    "results_ret_ar_3.summary()"
   ]
  },
  {
   "cell_type": "code",
   "execution_count": 23,
   "metadata": {},
   "outputs": [
    {
     "data": {
      "text/plain": [
       "0.913"
      ]
     },
     "execution_count": 23,
     "metadata": {},
     "output_type": "execute_result"
    }
   ],
   "source": [
    "LLR_test(results_ret_ar_2, results_ret_ar_3)"
   ]
  },
  {
   "cell_type": "code",
   "execution_count": 24,
   "metadata": {},
   "outputs": [
    {
     "name": "stdout",
     "output_type": "stream",
     "text": [
      "                              ARMA Model Results                              \n",
      "==============================================================================\n",
      "Dep. Variable:                returns   No. Observations:                 3715\n",
      "Model:                     ARMA(4, 0)   Log Likelihood                3370.618\n",
      "Method:                       css-mle   S.D. of innovations              0.098\n",
      "Date:                Thu, 10 Oct 2019   AIC                          -6729.237\n",
      "Time:                        09:10:57   BIC                          -6691.916\n",
      "Sample:                             0   HQIC                         -6715.958\n",
      "                                                                              \n",
      "=================================================================================\n",
      "                    coef    std err          z      P>|z|      [0.025      0.975]\n",
      "---------------------------------------------------------------------------------\n",
      "const            -0.0004      0.002     -0.242      0.809      -0.004       0.003\n",
      "ar.L1.returns    -0.0138      0.016     -0.842      0.400      -0.046       0.018\n",
      "ar.L2.returns     0.0303      0.016      1.848      0.065      -0.002       0.062\n",
      "ar.L3.returns     0.0023      0.016      0.141      0.888      -0.030       0.034\n",
      "ar.L4.returns     0.0372      0.016      2.271      0.023       0.005       0.069\n",
      "                                    Roots                                    \n",
      "=============================================================================\n",
      "                  Real          Imaginary           Modulus         Frequency\n",
      "-----------------------------------------------------------------------------\n",
      "AR.1            2.1926           -0.0000j            2.1926           -0.0000\n",
      "AR.2           -2.1855           -0.0000j            2.1855           -0.5000\n",
      "AR.3           -0.0346           -2.3675j            2.3678           -0.2523\n",
      "AR.4           -0.0346           +2.3675j            2.3678            0.2523\n",
      "-----------------------------------------------------------------------------\n",
      "LLR test: 0.023\n"
     ]
    }
   ],
   "source": [
    "model_ret_ar_4 = ARMA(df.returns, order = (4,0))\n",
    "results_ret_ar_4 = model_ret_ar_4.fit()\n",
    "print(results_ret_ar_4.summary())\n",
    "print (\"LLR test: \" + str(LLR_test(results_ret_ar_3, results_ret_ar_4)))"
   ]
  },
  {
   "cell_type": "code",
   "execution_count": 25,
   "metadata": {},
   "outputs": [
    {
     "name": "stdout",
     "output_type": "stream",
     "text": [
      "                              ARMA Model Results                              \n",
      "==============================================================================\n",
      "Dep. Variable:                returns   No. Observations:                 3715\n",
      "Model:                     ARMA(5, 0)   Log Likelihood                3370.864\n",
      "Method:                       css-mle   S.D. of innovations              0.098\n",
      "Date:                Thu, 10 Oct 2019   AIC                          -6727.728\n",
      "Time:                        09:10:58   BIC                          -6684.187\n",
      "Sample:                             0   HQIC                         -6712.236\n",
      "                                                                              \n",
      "=================================================================================\n",
      "                    coef    std err          z      P>|z|      [0.025      0.975]\n",
      "---------------------------------------------------------------------------------\n",
      "const            -0.0004      0.002     -0.245      0.806      -0.004       0.003\n",
      "ar.L1.returns    -0.0134      0.016     -0.816      0.415      -0.046       0.019\n",
      "ar.L2.returns     0.0303      0.016      1.850      0.064      -0.002       0.062\n",
      "ar.L3.returns     0.0027      0.016      0.162      0.871      -0.029       0.035\n",
      "ar.L4.returns     0.0371      0.016      2.261      0.024       0.005       0.069\n",
      "ar.L5.returns    -0.0115      0.016     -0.701      0.483      -0.044       0.021\n",
      "                                    Roots                                    \n",
      "=============================================================================\n",
      "                  Real          Imaginary           Modulus         Frequency\n",
      "-----------------------------------------------------------------------------\n",
      "AR.1           -1.9590           -0.0000j            1.9590           -0.5000\n",
      "AR.2           -0.3480           -2.1725j            2.2002           -0.2753\n",
      "AR.3           -0.3480           +2.1725j            2.2002            0.2753\n",
      "AR.4            2.9397           -0.7294j            3.0288           -0.0387\n",
      "AR.5            2.9397           +0.7294j            3.0288            0.0387\n",
      "-----------------------------------------------------------------------------\n",
      "LLR test: 0.483\n"
     ]
    }
   ],
   "source": [
    "model_ret_ar_5 = ARMA(df.returns, order = (5,0))\n",
    "results_ret_ar_5 = model_ret_ar_5.fit()\n",
    "print(results_ret_ar_5.summary())\n",
    "print (\"LLR test: \" + str(LLR_test(results_ret_ar_4, results_ret_ar_5)))"
   ]
  },
  {
   "cell_type": "code",
   "execution_count": 26,
   "metadata": {},
   "outputs": [
    {
     "name": "stdout",
     "output_type": "stream",
     "text": [
      "                              ARMA Model Results                              \n",
      "==============================================================================\n",
      "Dep. Variable:                returns   No. Observations:                 3715\n",
      "Model:                     ARMA(6, 0)   Log Likelihood                3375.046\n",
      "Method:                       css-mle   S.D. of innovations              0.098\n",
      "Date:                Thu, 10 Oct 2019   AIC                          -6734.092\n",
      "Time:                        09:10:58   BIC                          -6684.331\n",
      "Sample:                             0   HQIC                         -6716.386\n",
      "                                                                              \n",
      "=================================================================================\n",
      "                    coef    std err          z      P>|z|      [0.025      0.975]\n",
      "---------------------------------------------------------------------------------\n",
      "const            -0.0004      0.002     -0.234      0.815      -0.004       0.003\n",
      "ar.L1.returns    -0.0128      0.016     -0.783      0.434      -0.045       0.019\n",
      "ar.L2.returns     0.0286      0.016      1.744      0.081      -0.004       0.061\n",
      "ar.L3.returns     0.0025      0.016      0.155      0.877      -0.030       0.035\n",
      "ar.L4.returns     0.0356      0.016      2.174      0.030       0.004       0.068\n",
      "ar.L5.returns    -0.0109      0.016     -0.663      0.508      -0.043       0.021\n",
      "ar.L6.returns     0.0474      0.016      2.894      0.004       0.015       0.080\n",
      "                                    Roots                                    \n",
      "=============================================================================\n",
      "                  Real          Imaginary           Modulus         Frequency\n",
      "-----------------------------------------------------------------------------\n",
      "AR.1           -1.5385           -0.0000j            1.5385           -0.5000\n",
      "AR.2           -0.7723           -1.4902j            1.6784           -0.3261\n",
      "AR.3           -0.7723           +1.4902j            1.6784            0.3261\n",
      "AR.4            1.6066           -0.0000j            1.6066           -0.0000\n",
      "AR.5            0.8528           -1.5172j            1.7405           -0.1685\n",
      "AR.6            0.8528           +1.5172j            1.7405            0.1685\n",
      "-----------------------------------------------------------------------------\n",
      "LLR test: 0.004\n"
     ]
    }
   ],
   "source": [
    "model_ret_ar_6 = ARMA(df.returns, order = (6,0))\n",
    "results_ret_ar_6 = model_ret_ar_6.fit()\n",
    "print(results_ret_ar_6.summary())\n",
    "print (\"LLR test: \" + str(LLR_test(results_ret_ar_5, results_ret_ar_6)))"
   ]
  },
  {
   "cell_type": "code",
   "execution_count": 27,
   "metadata": {},
   "outputs": [
    {
     "data": {
      "text/html": [
       "<table class=\"simpletable\">\n",
       "<caption>ARMA Model Results</caption>\n",
       "<tr>\n",
       "  <th>Dep. Variable:</th>      <td>returns</td>     <th>  No. Observations:  </th>   <td>3715</td>   \n",
       "</tr>\n",
       "<tr>\n",
       "  <th>Model:</th>            <td>ARMA(7, 0)</td>    <th>  Log Likelihood     </th> <td>3377.089</td> \n",
       "</tr>\n",
       "<tr>\n",
       "  <th>Method:</th>             <td>css-mle</td>     <th>  S.D. of innovations</th>   <td>0.097</td>  \n",
       "</tr>\n",
       "<tr>\n",
       "  <th>Date:</th>          <td>Thu, 10 Oct 2019</td> <th>  AIC                </th> <td>-6736.178</td>\n",
       "</tr>\n",
       "<tr>\n",
       "  <th>Time:</th>              <td>09:10:59</td>     <th>  BIC                </th> <td>-6680.197</td>\n",
       "</tr>\n",
       "<tr>\n",
       "  <th>Sample:</th>                <td>0</td>        <th>  HQIC               </th> <td>-6716.260</td>\n",
       "</tr>\n",
       "<tr>\n",
       "  <th></th>                       <td> </td>        <th>                     </th>     <td> </td>    \n",
       "</tr>\n",
       "</table>\n",
       "<table class=\"simpletable\">\n",
       "<tr>\n",
       "        <td></td>           <th>coef</th>     <th>std err</th>      <th>z</th>      <th>P>|z|</th>  <th>[0.025</th>    <th>0.975]</th>  \n",
       "</tr>\n",
       "<tr>\n",
       "  <th>const</th>         <td>   -0.0004</td> <td>    0.002</td> <td>   -0.241</td> <td> 0.810</td> <td>   -0.004</td> <td>    0.003</td>\n",
       "</tr>\n",
       "<tr>\n",
       "  <th>ar.L1.returns</th> <td>   -0.0113</td> <td>    0.016</td> <td>   -0.686</td> <td> 0.493</td> <td>   -0.043</td> <td>    0.021</td>\n",
       "</tr>\n",
       "<tr>\n",
       "  <th>ar.L2.returns</th> <td>    0.0282</td> <td>    0.016</td> <td>    1.722</td> <td> 0.085</td> <td>   -0.004</td> <td>    0.060</td>\n",
       "</tr>\n",
       "<tr>\n",
       "  <th>ar.L3.returns</th> <td>    0.0037</td> <td>    0.016</td> <td>    0.226</td> <td> 0.821</td> <td>   -0.028</td> <td>    0.036</td>\n",
       "</tr>\n",
       "<tr>\n",
       "  <th>ar.L4.returns</th> <td>    0.0357</td> <td>    0.016</td> <td>    2.181</td> <td> 0.029</td> <td>    0.004</td> <td>    0.068</td>\n",
       "</tr>\n",
       "<tr>\n",
       "  <th>ar.L5.returns</th> <td>   -0.0099</td> <td>    0.016</td> <td>   -0.604</td> <td> 0.546</td> <td>   -0.042</td> <td>    0.022</td>\n",
       "</tr>\n",
       "<tr>\n",
       "  <th>ar.L6.returns</th> <td>    0.0470</td> <td>    0.016</td> <td>    2.868</td> <td> 0.004</td> <td>    0.015</td> <td>    0.079</td>\n",
       "</tr>\n",
       "<tr>\n",
       "  <th>ar.L7.returns</th> <td>   -0.0332</td> <td>    0.016</td> <td>   -2.022</td> <td> 0.043</td> <td>   -0.065</td> <td>   -0.001</td>\n",
       "</tr>\n",
       "</table>\n",
       "<table class=\"simpletable\">\n",
       "<caption>Roots</caption>\n",
       "<tr>\n",
       "    <td></td>   <th>            Real</th>  <th>         Imaginary</th> <th>         Modulus</th>  <th>        Frequency</th>\n",
       "</tr>\n",
       "<tr>\n",
       "  <th>AR.1</th> <td>          -1.4114</td> <td>          -0.0000j</td> <td>           1.4114</td> <td>          -0.5000</td>\n",
       "</tr>\n",
       "<tr>\n",
       "  <th>AR.2</th> <td>          -0.8508</td> <td>          -1.2793j</td> <td>           1.5364</td> <td>          -0.3434</td>\n",
       "</tr>\n",
       "<tr>\n",
       "  <th>AR.3</th> <td>          -0.8508</td> <td>          +1.2793j</td> <td>           1.5364</td> <td>           0.3434</td>\n",
       "</tr>\n",
       "<tr>\n",
       "  <th>AR.4</th> <td>           0.5096</td> <td>          -1.5540j</td> <td>           1.6355</td> <td>          -0.1996</td>\n",
       "</tr>\n",
       "<tr>\n",
       "  <th>AR.5</th> <td>           0.5096</td> <td>          +1.5540j</td> <td>           1.6355</td> <td>           0.1996</td>\n",
       "</tr>\n",
       "<tr>\n",
       "  <th>AR.6</th> <td>           1.7552</td> <td>          -0.5514j</td> <td>           1.8398</td> <td>          -0.0484</td>\n",
       "</tr>\n",
       "<tr>\n",
       "  <th>AR.7</th> <td>           1.7552</td> <td>          +0.5514j</td> <td>           1.8398</td> <td>           0.0484</td>\n",
       "</tr>\n",
       "</table>"
      ],
      "text/plain": [
       "<class 'statsmodels.iolib.summary.Summary'>\n",
       "\"\"\"\n",
       "                              ARMA Model Results                              \n",
       "==============================================================================\n",
       "Dep. Variable:                returns   No. Observations:                 3715\n",
       "Model:                     ARMA(7, 0)   Log Likelihood                3377.089\n",
       "Method:                       css-mle   S.D. of innovations              0.097\n",
       "Date:                Thu, 10 Oct 2019   AIC                          -6736.178\n",
       "Time:                        09:10:59   BIC                          -6680.197\n",
       "Sample:                             0   HQIC                         -6716.260\n",
       "                                                                              \n",
       "=================================================================================\n",
       "                    coef    std err          z      P>|z|      [0.025      0.975]\n",
       "---------------------------------------------------------------------------------\n",
       "const            -0.0004      0.002     -0.241      0.810      -0.004       0.003\n",
       "ar.L1.returns    -0.0113      0.016     -0.686      0.493      -0.043       0.021\n",
       "ar.L2.returns     0.0282      0.016      1.722      0.085      -0.004       0.060\n",
       "ar.L3.returns     0.0037      0.016      0.226      0.821      -0.028       0.036\n",
       "ar.L4.returns     0.0357      0.016      2.181      0.029       0.004       0.068\n",
       "ar.L5.returns    -0.0099      0.016     -0.604      0.546      -0.042       0.022\n",
       "ar.L6.returns     0.0470      0.016      2.868      0.004       0.015       0.079\n",
       "ar.L7.returns    -0.0332      0.016     -2.022      0.043      -0.065      -0.001\n",
       "                                    Roots                                    \n",
       "=============================================================================\n",
       "                  Real          Imaginary           Modulus         Frequency\n",
       "-----------------------------------------------------------------------------\n",
       "AR.1           -1.4114           -0.0000j            1.4114           -0.5000\n",
       "AR.2           -0.8508           -1.2793j            1.5364           -0.3434\n",
       "AR.3           -0.8508           +1.2793j            1.5364            0.3434\n",
       "AR.4            0.5096           -1.5540j            1.6355           -0.1996\n",
       "AR.5            0.5096           +1.5540j            1.6355            0.1996\n",
       "AR.6            1.7552           -0.5514j            1.8398           -0.0484\n",
       "AR.7            1.7552           +0.5514j            1.8398            0.0484\n",
       "-----------------------------------------------------------------------------\n",
       "\"\"\""
      ]
     },
     "execution_count": 27,
     "metadata": {},
     "output_type": "execute_result"
    }
   ],
   "source": [
    "model_ret_ar_7 = ARMA(df.returns, order = (7,0))\n",
    "results_ret_ar_7 = model_ret_ar_7.fit()\n",
    "results_ret_ar_7.summary()"
   ]
  },
  {
   "cell_type": "code",
   "execution_count": 28,
   "metadata": {},
   "outputs": [
    {
     "name": "stdout",
     "output_type": "stream",
     "text": [
      "0.043\n"
     ]
    }
   ],
   "source": [
    "print (LLR_test(results_ret_ar_6, results_ret_ar_7))"
   ]
  },
  {
   "cell_type": "markdown",
   "metadata": {},
   "source": [
    "## Normalizing Values"
   ]
  },
  {
   "cell_type": "code",
   "execution_count": 32,
   "metadata": {},
   "outputs": [],
   "source": [
    "benchmark = df.returns.iloc[0]"
   ]
  },
  {
   "cell_type": "code",
   "execution_count": null,
   "metadata": {},
   "outputs": [],
   "source": []
  },
  {
   "cell_type": "code",
   "execution_count": 34,
   "metadata": {},
   "outputs": [],
   "source": [
    "df['norm'] = df.returns.div(benchmark).mul(100)"
   ]
  },
  {
   "cell_type": "code",
   "execution_count": 35,
   "metadata": {},
   "outputs": [
    {
     "data": {
      "text/plain": [
       "(-22.322742929495075,\n",
       " 0.0,\n",
       " 6,\n",
       " 3708,\n",
       " {'1%': -3.432114787687694,\n",
       "  '5%': -2.862319785536031,\n",
       "  '10%': -2.5671850910332363},\n",
       " 60024.17872710315)"
      ]
     },
     "execution_count": 35,
     "metadata": {},
     "output_type": "execute_result"
    }
   ],
   "source": [
    "sts.adfuller(df.norm)"
   ]
  },
  {
   "cell_type": "code",
   "execution_count": 36,
   "metadata": {},
   "outputs": [
    {
     "data": {
      "text/plain": [
       "(-22.322742929495075,\n",
       " 0.0,\n",
       " 6,\n",
       " 3708,\n",
       " {'1%': -3.432114787687694,\n",
       "  '5%': -2.862319785536031,\n",
       "  '10%': -2.5671850910332363},\n",
       " 60024.17872710315)"
      ]
     },
     "execution_count": 36,
     "metadata": {},
     "output_type": "execute_result"
    }
   ],
   "source": [
    "bench_ret = df.returns.iloc[0]\n",
    "df['norm_ret'] = df.returns.div(bench_ret).mul(100)\n",
    "sts.adfuller(df.norm_ret)"
   ]
  },
  {
   "cell_type": "markdown",
   "metadata": {},
   "source": [
    "## Normalized Returns"
   ]
  },
  {
   "cell_type": "code",
   "execution_count": 37,
   "metadata": {},
   "outputs": [
    {
     "data": {
      "text/html": [
       "<table class=\"simpletable\">\n",
       "<caption>ARMA Model Results</caption>\n",
       "<tr>\n",
       "  <th>Dep. Variable:</th>     <td>norm_ret</td>     <th>  No. Observations:  </th>    <td>3715</td>   \n",
       "</tr>\n",
       "<tr>\n",
       "  <th>Model:</th>            <td>ARMA(1, 0)</td>    <th>  Log Likelihood     </th> <td>-30254.173</td>\n",
       "</tr>\n",
       "<tr>\n",
       "  <th>Method:</th>             <td>css-mle</td>     <th>  S.D. of innovations</th>   <td>832.847</td> \n",
       "</tr>\n",
       "<tr>\n",
       "  <th>Date:</th>          <td>Thu, 10 Oct 2019</td> <th>  AIC                </th>  <td>60514.346</td>\n",
       "</tr>\n",
       "<tr>\n",
       "  <th>Time:</th>              <td>09:12:59</td>     <th>  BIC                </th>  <td>60533.006</td>\n",
       "</tr>\n",
       "<tr>\n",
       "  <th>Sample:</th>                <td>0</td>        <th>  HQIC               </th>  <td>60520.985</td>\n",
       "</tr>\n",
       "<tr>\n",
       "  <th></th>                       <td> </td>        <th>                     </th>      <td> </td>    \n",
       "</tr>\n",
       "</table>\n",
       "<table class=\"simpletable\">\n",
       "<tr>\n",
       "         <td></td>           <th>coef</th>     <th>std err</th>      <th>z</th>      <th>P>|z|</th>  <th>[0.025</th>    <th>0.975]</th>  \n",
       "</tr>\n",
       "<tr>\n",
       "  <th>const</th>          <td>   -3.5017</td> <td>   13.474</td> <td>   -0.260</td> <td> 0.795</td> <td>  -29.910</td> <td>   22.907</td>\n",
       "</tr>\n",
       "<tr>\n",
       "  <th>ar.L1.norm_ret</th> <td>   -0.0141</td> <td>    0.016</td> <td>   -0.861</td> <td> 0.389</td> <td>   -0.046</td> <td>    0.018</td>\n",
       "</tr>\n",
       "</table>\n",
       "<table class=\"simpletable\">\n",
       "<caption>Roots</caption>\n",
       "<tr>\n",
       "    <td></td>   <th>            Real</th>  <th>         Imaginary</th> <th>         Modulus</th>  <th>        Frequency</th>\n",
       "</tr>\n",
       "<tr>\n",
       "  <th>AR.1</th> <td>         -70.7792</td> <td>          +0.0000j</td> <td>          70.7792</td> <td>           0.5000</td>\n",
       "</tr>\n",
       "</table>"
      ],
      "text/plain": [
       "<class 'statsmodels.iolib.summary.Summary'>\n",
       "\"\"\"\n",
       "                              ARMA Model Results                              \n",
       "==============================================================================\n",
       "Dep. Variable:               norm_ret   No. Observations:                 3715\n",
       "Model:                     ARMA(1, 0)   Log Likelihood              -30254.173\n",
       "Method:                       css-mle   S.D. of innovations            832.847\n",
       "Date:                Thu, 10 Oct 2019   AIC                          60514.346\n",
       "Time:                        09:12:59   BIC                          60533.006\n",
       "Sample:                             0   HQIC                         60520.985\n",
       "                                                                              \n",
       "==================================================================================\n",
       "                     coef    std err          z      P>|z|      [0.025      0.975]\n",
       "----------------------------------------------------------------------------------\n",
       "const             -3.5017     13.474     -0.260      0.795     -29.910      22.907\n",
       "ar.L1.norm_ret    -0.0141      0.016     -0.861      0.389      -0.046       0.018\n",
       "                                    Roots                                    \n",
       "=============================================================================\n",
       "                  Real          Imaginary           Modulus         Frequency\n",
       "-----------------------------------------------------------------------------\n",
       "AR.1          -70.7792           +0.0000j           70.7792            0.5000\n",
       "-----------------------------------------------------------------------------\n",
       "\"\"\""
      ]
     },
     "execution_count": 37,
     "metadata": {},
     "output_type": "execute_result"
    }
   ],
   "source": [
    "model_norm_ret_ar_1 = ARMA (df.norm_ret, order=(1,0))\n",
    "results_norm_ret_ar_1 = model_norm_ret_ar_1.fit()\n",
    "results_norm_ret_ar_1.summary()"
   ]
  },
  {
   "cell_type": "code",
   "execution_count": 38,
   "metadata": {},
   "outputs": [
    {
     "data": {
      "text/html": [
       "<table class=\"simpletable\">\n",
       "<caption>ARMA Model Results</caption>\n",
       "<tr>\n",
       "  <th>Dep. Variable:</th>     <td>norm_ret</td>     <th>  No. Observations:  </th>    <td>3715</td>   \n",
       "</tr>\n",
       "<tr>\n",
       "  <th>Model:</th>            <td>ARMA(2, 0)</td>    <th>  Log Likelihood     </th> <td>-30252.334</td>\n",
       "</tr>\n",
       "<tr>\n",
       "  <th>Method:</th>             <td>css-mle</td>     <th>  S.D. of innovations</th>   <td>832.434</td> \n",
       "</tr>\n",
       "<tr>\n",
       "  <th>Date:</th>          <td>Thu, 10 Oct 2019</td> <th>  AIC                </th>  <td>60512.668</td>\n",
       "</tr>\n",
       "<tr>\n",
       "  <th>Time:</th>              <td>09:13:00</td>     <th>  BIC                </th>  <td>60537.549</td>\n",
       "</tr>\n",
       "<tr>\n",
       "  <th>Sample:</th>                <td>0</td>        <th>  HQIC               </th>  <td>60521.521</td>\n",
       "</tr>\n",
       "<tr>\n",
       "  <th></th>                       <td> </td>        <th>                     </th>      <td> </td>    \n",
       "</tr>\n",
       "</table>\n",
       "<table class=\"simpletable\">\n",
       "<tr>\n",
       "         <td></td>           <th>coef</th>     <th>std err</th>      <th>z</th>      <th>P>|z|</th>  <th>[0.025</th>    <th>0.975]</th>  \n",
       "</tr>\n",
       "<tr>\n",
       "  <th>const</th>          <td>   -3.5017</td> <td>   13.904</td> <td>   -0.252</td> <td> 0.801</td> <td>  -30.754</td> <td>   23.750</td>\n",
       "</tr>\n",
       "<tr>\n",
       "  <th>ar.L1.norm_ret</th> <td>   -0.0137</td> <td>    0.016</td> <td>   -0.834</td> <td> 0.404</td> <td>   -0.046</td> <td>    0.018</td>\n",
       "</tr>\n",
       "<tr>\n",
       "  <th>ar.L2.norm_ret</th> <td>    0.0315</td> <td>    0.016</td> <td>    1.918</td> <td> 0.055</td> <td>   -0.001</td> <td>    0.064</td>\n",
       "</tr>\n",
       "</table>\n",
       "<table class=\"simpletable\">\n",
       "<caption>Roots</caption>\n",
       "<tr>\n",
       "    <td></td>   <th>            Real</th>  <th>         Imaginary</th> <th>         Modulus</th>  <th>        Frequency</th>\n",
       "</tr>\n",
       "<tr>\n",
       "  <th>AR.1</th> <td>          -5.4255</td> <td>          +0.0000j</td> <td>           5.4255</td> <td>           0.5000</td>\n",
       "</tr>\n",
       "<tr>\n",
       "  <th>AR.2</th> <td>           5.8605</td> <td>          +0.0000j</td> <td>           5.8605</td> <td>           0.0000</td>\n",
       "</tr>\n",
       "</table>"
      ],
      "text/plain": [
       "<class 'statsmodels.iolib.summary.Summary'>\n",
       "\"\"\"\n",
       "                              ARMA Model Results                              \n",
       "==============================================================================\n",
       "Dep. Variable:               norm_ret   No. Observations:                 3715\n",
       "Model:                     ARMA(2, 0)   Log Likelihood              -30252.334\n",
       "Method:                       css-mle   S.D. of innovations            832.434\n",
       "Date:                Thu, 10 Oct 2019   AIC                          60512.668\n",
       "Time:                        09:13:00   BIC                          60537.549\n",
       "Sample:                             0   HQIC                         60521.521\n",
       "                                                                              \n",
       "==================================================================================\n",
       "                     coef    std err          z      P>|z|      [0.025      0.975]\n",
       "----------------------------------------------------------------------------------\n",
       "const             -3.5017     13.904     -0.252      0.801     -30.754      23.750\n",
       "ar.L1.norm_ret    -0.0137      0.016     -0.834      0.404      -0.046       0.018\n",
       "ar.L2.norm_ret     0.0315      0.016      1.918      0.055      -0.001       0.064\n",
       "                                    Roots                                    \n",
       "=============================================================================\n",
       "                  Real          Imaginary           Modulus         Frequency\n",
       "-----------------------------------------------------------------------------\n",
       "AR.1           -5.4255           +0.0000j            5.4255            0.5000\n",
       "AR.2            5.8605           +0.0000j            5.8605            0.0000\n",
       "-----------------------------------------------------------------------------\n",
       "\"\"\""
      ]
     },
     "execution_count": 38,
     "metadata": {},
     "output_type": "execute_result"
    }
   ],
   "source": [
    "model_norm_ret_ar_2 = ARMA(df.norm_ret, order=(2,0))\n",
    "results_norm_ret_ar_2 = model_norm_ret_ar_2.fit()\n",
    "results_norm_ret_ar_2.summary()"
   ]
  },
  {
   "cell_type": "code",
   "execution_count": 39,
   "metadata": {},
   "outputs": [
    {
     "data": {
      "text/html": [
       "<table class=\"simpletable\">\n",
       "<caption>ARMA Model Results</caption>\n",
       "<tr>\n",
       "  <th>Dep. Variable:</th>     <td>norm_ret</td>     <th>  No. Observations:  </th>    <td>3715</td>   \n",
       "</tr>\n",
       "<tr>\n",
       "  <th>Model:</th>            <td>ARMA(7, 0)</td>    <th>  Log Likelihood     </th> <td>-30243.280</td>\n",
       "</tr>\n",
       "<tr>\n",
       "  <th>Method:</th>             <td>css-mle</td>     <th>  S.D. of innovations</th>   <td>830.405</td> \n",
       "</tr>\n",
       "<tr>\n",
       "  <th>Date:</th>          <td>Thu, 10 Oct 2019</td> <th>  AIC                </th>  <td>60504.561</td>\n",
       "</tr>\n",
       "<tr>\n",
       "  <th>Time:</th>              <td>09:13:02</td>     <th>  BIC                </th>  <td>60560.542</td>\n",
       "</tr>\n",
       "<tr>\n",
       "  <th>Sample:</th>                <td>0</td>        <th>  HQIC               </th>  <td>60524.479</td>\n",
       "</tr>\n",
       "<tr>\n",
       "  <th></th>                       <td> </td>        <th>                     </th>      <td> </td>    \n",
       "</tr>\n",
       "</table>\n",
       "<table class=\"simpletable\">\n",
       "<tr>\n",
       "         <td></td>           <th>coef</th>     <th>std err</th>      <th>z</th>      <th>P>|z|</th>  <th>[0.025</th>    <th>0.975]</th>  \n",
       "</tr>\n",
       "<tr>\n",
       "  <th>const</th>          <td>   -3.5568</td> <td>   14.497</td> <td>   -0.245</td> <td> 0.806</td> <td>  -31.971</td> <td>   24.857</td>\n",
       "</tr>\n",
       "<tr>\n",
       "  <th>ar.L1.norm_ret</th> <td>   -0.0113</td> <td>    0.016</td> <td>   -0.686</td> <td> 0.493</td> <td>   -0.043</td> <td>    0.021</td>\n",
       "</tr>\n",
       "<tr>\n",
       "  <th>ar.L2.norm_ret</th> <td>    0.0282</td> <td>    0.016</td> <td>    1.722</td> <td> 0.085</td> <td>   -0.004</td> <td>    0.060</td>\n",
       "</tr>\n",
       "<tr>\n",
       "  <th>ar.L3.norm_ret</th> <td>    0.0037</td> <td>    0.016</td> <td>    0.226</td> <td> 0.821</td> <td>   -0.028</td> <td>    0.036</td>\n",
       "</tr>\n",
       "<tr>\n",
       "  <th>ar.L4.norm_ret</th> <td>    0.0357</td> <td>    0.016</td> <td>    2.181</td> <td> 0.029</td> <td>    0.004</td> <td>    0.068</td>\n",
       "</tr>\n",
       "<tr>\n",
       "  <th>ar.L5.norm_ret</th> <td>   -0.0099</td> <td>    0.016</td> <td>   -0.604</td> <td> 0.546</td> <td>   -0.042</td> <td>    0.022</td>\n",
       "</tr>\n",
       "<tr>\n",
       "  <th>ar.L6.norm_ret</th> <td>    0.0470</td> <td>    0.016</td> <td>    2.868</td> <td> 0.004</td> <td>    0.015</td> <td>    0.079</td>\n",
       "</tr>\n",
       "<tr>\n",
       "  <th>ar.L7.norm_ret</th> <td>   -0.0332</td> <td>    0.016</td> <td>   -2.022</td> <td> 0.043</td> <td>   -0.065</td> <td>   -0.001</td>\n",
       "</tr>\n",
       "</table>\n",
       "<table class=\"simpletable\">\n",
       "<caption>Roots</caption>\n",
       "<tr>\n",
       "    <td></td>   <th>            Real</th>  <th>         Imaginary</th> <th>         Modulus</th>  <th>        Frequency</th>\n",
       "</tr>\n",
       "<tr>\n",
       "  <th>AR.1</th> <td>          -1.4114</td> <td>          -0.0000j</td> <td>           1.4114</td> <td>          -0.5000</td>\n",
       "</tr>\n",
       "<tr>\n",
       "  <th>AR.2</th> <td>          -0.8508</td> <td>          -1.2793j</td> <td>           1.5364</td> <td>          -0.3434</td>\n",
       "</tr>\n",
       "<tr>\n",
       "  <th>AR.3</th> <td>          -0.8508</td> <td>          +1.2793j</td> <td>           1.5364</td> <td>           0.3434</td>\n",
       "</tr>\n",
       "<tr>\n",
       "  <th>AR.4</th> <td>           0.5096</td> <td>          -1.5540j</td> <td>           1.6355</td> <td>          -0.1996</td>\n",
       "</tr>\n",
       "<tr>\n",
       "  <th>AR.5</th> <td>           0.5096</td> <td>          +1.5540j</td> <td>           1.6355</td> <td>           0.1996</td>\n",
       "</tr>\n",
       "<tr>\n",
       "  <th>AR.6</th> <td>           1.7552</td> <td>          -0.5514j</td> <td>           1.8398</td> <td>          -0.0484</td>\n",
       "</tr>\n",
       "<tr>\n",
       "  <th>AR.7</th> <td>           1.7552</td> <td>          +0.5514j</td> <td>           1.8398</td> <td>           0.0484</td>\n",
       "</tr>\n",
       "</table>"
      ],
      "text/plain": [
       "<class 'statsmodels.iolib.summary.Summary'>\n",
       "\"\"\"\n",
       "                              ARMA Model Results                              \n",
       "==============================================================================\n",
       "Dep. Variable:               norm_ret   No. Observations:                 3715\n",
       "Model:                     ARMA(7, 0)   Log Likelihood              -30243.280\n",
       "Method:                       css-mle   S.D. of innovations            830.405\n",
       "Date:                Thu, 10 Oct 2019   AIC                          60504.561\n",
       "Time:                        09:13:02   BIC                          60560.542\n",
       "Sample:                             0   HQIC                         60524.479\n",
       "                                                                              \n",
       "==================================================================================\n",
       "                     coef    std err          z      P>|z|      [0.025      0.975]\n",
       "----------------------------------------------------------------------------------\n",
       "const             -3.5568     14.497     -0.245      0.806     -31.971      24.857\n",
       "ar.L1.norm_ret    -0.0113      0.016     -0.686      0.493      -0.043       0.021\n",
       "ar.L2.norm_ret     0.0282      0.016      1.722      0.085      -0.004       0.060\n",
       "ar.L3.norm_ret     0.0037      0.016      0.226      0.821      -0.028       0.036\n",
       "ar.L4.norm_ret     0.0357      0.016      2.181      0.029       0.004       0.068\n",
       "ar.L5.norm_ret    -0.0099      0.016     -0.604      0.546      -0.042       0.022\n",
       "ar.L6.norm_ret     0.0470      0.016      2.868      0.004       0.015       0.079\n",
       "ar.L7.norm_ret    -0.0332      0.016     -2.022      0.043      -0.065      -0.001\n",
       "                                    Roots                                    \n",
       "=============================================================================\n",
       "                  Real          Imaginary           Modulus         Frequency\n",
       "-----------------------------------------------------------------------------\n",
       "AR.1           -1.4114           -0.0000j            1.4114           -0.5000\n",
       "AR.2           -0.8508           -1.2793j            1.5364           -0.3434\n",
       "AR.3           -0.8508           +1.2793j            1.5364            0.3434\n",
       "AR.4            0.5096           -1.5540j            1.6355           -0.1996\n",
       "AR.5            0.5096           +1.5540j            1.6355            0.1996\n",
       "AR.6            1.7552           -0.5514j            1.8398           -0.0484\n",
       "AR.7            1.7552           +0.5514j            1.8398            0.0484\n",
       "-----------------------------------------------------------------------------\n",
       "\"\"\""
      ]
     },
     "execution_count": 39,
     "metadata": {},
     "output_type": "execute_result"
    }
   ],
   "source": [
    "model_norm_ret_ar_7 = ARMA(df.norm_ret, order=(7,0))\n",
    "results_norm_ret_ar_7 = model_norm_ret_ar_7.fit()\n",
    "results_norm_ret_ar_7.summary()"
   ]
  },
  {
   "cell_type": "markdown",
   "metadata": {},
   "source": [
    "## Analysing the Residuals"
   ]
  },
  {
   "cell_type": "code",
   "execution_count": 40,
   "metadata": {},
   "outputs": [],
   "source": [
    "df['res_ret'] = results_ret_ar_6.resid"
   ]
  },
  {
   "cell_type": "code",
   "execution_count": 41,
   "metadata": {},
   "outputs": [
    {
     "data": {
      "text/plain": [
       "-2.9419720786109336e-06"
      ]
     },
     "execution_count": 41,
     "metadata": {},
     "output_type": "execute_result"
    }
   ],
   "source": [
    "df.res_ret.mean()"
   ]
  },
  {
   "cell_type": "code",
   "execution_count": 42,
   "metadata": {},
   "outputs": [
    {
     "data": {
      "text/plain": [
       "0.009517756903401326"
      ]
     },
     "execution_count": 42,
     "metadata": {},
     "output_type": "execute_result"
    }
   ],
   "source": [
    "df.res_ret.var()"
   ]
  },
  {
   "cell_type": "code",
   "execution_count": 43,
   "metadata": {},
   "outputs": [
    {
     "data": {
      "text/plain": [
       "(-60.8300030387807,\n",
       " 0.0,\n",
       " 0,\n",
       " 3714,\n",
       " {'1%': -3.4321119346833497,\n",
       "  '5%': -2.862318525286356,\n",
       "  '10%': -2.5671844201204657},\n",
       " -6663.381392445477)"
      ]
     },
     "execution_count": 43,
     "metadata": {},
     "output_type": "execute_result"
    }
   ],
   "source": [
    "sts.adfuller(df.res_ret)"
   ]
  },
  {
   "cell_type": "code",
   "execution_count": 44,
   "metadata": {},
   "outputs": [
    {
     "data": {
      "image/png": "[encoded data removed]",
      "text/plain": [
       "<Figure size 432x288 with 1 Axes>"
      ]
     },
     "metadata": {
      "needs_background": "dark"
     },
     "output_type": "display_data"
    }
   ],
   "source": [
    "sgt.plot_acf(df.res_ret, zero = False, lags = 40)\n",
    "plt.title(\"ACF Of Residuals for Returns\",size=24)\n",
    "plt.show()"
   ]
  },
  {
   "cell_type": "code",
   "execution_count": 47,
   "metadata": {},
   "outputs": [
    {
     "data": {
      "image/png": "[encoded data removed]",
      "text/plain": [
       "<Figure size 1440x360 with 1 Axes>"
      ]
     },
     "metadata": {
      "needs_background": "dark"
     },
     "output_type": "display_data"
    }
   ],
   "source": [
    "df.res_ret.plot(figsize=(20,5))\n",
    "plt.title(\"Residuals of Returns\", size=32)\n",
    "plt.show()"
   ]
  },
  {
   "cell_type": "code",
   "execution_count": 48,
   "metadata": {},
   "outputs": [
    {
     "data": {
      "text/html": [
       "<div>\n",
       "<style scoped>\n",
       "    .dataframe tbody tr th:only-of-type {\n",
       "        vertical-align: middle;\n",
       "    }\n",
       "\n",
       "    .dataframe tbody tr th {\n",
       "        vertical-align: top;\n",
       "    }\n",
       "\n",
       "    .dataframe thead th {\n",
       "        text-align: right;\n",
       "    }\n",
       "</style>\n",
       "<table border=\"1\" class=\"dataframe\">\n",
       "  <thead>\n",
       "    <tr style=\"text-align: right;\">\n",
       "      <th></th>\n",
       "      <th>SPY</th>\n",
       "      <th>returns</th>\n",
       "      <th>norm</th>\n",
       "      <th>norm_ret</th>\n",
       "      <th>res_ret</th>\n",
       "    </tr>\n",
       "  </thead>\n",
       "  <tbody>\n",
       "    <tr>\n",
       "      <th>1</th>\n",
       "      <td>297.924988</td>\n",
       "      <td>0.011740</td>\n",
       "      <td>100.000000</td>\n",
       "      <td>100.000000</td>\n",
       "      <td>0.012152</td>\n",
       "    </tr>\n",
       "    <tr>\n",
       "      <th>2</th>\n",
       "      <td>298.079987</td>\n",
       "      <td>0.052026</td>\n",
       "      <td>443.141047</td>\n",
       "      <td>443.141047</td>\n",
       "      <td>0.052610</td>\n",
       "    </tr>\n",
       "    <tr>\n",
       "      <th>3</th>\n",
       "      <td>298.049988</td>\n",
       "      <td>-0.010064</td>\n",
       "      <td>-85.721870</td>\n",
       "      <td>-85.721870</td>\n",
       "      <td>-0.009318</td>\n",
       "    </tr>\n",
       "    <tr>\n",
       "      <th>4</th>\n",
       "      <td>298.109985</td>\n",
       "      <td>0.020130</td>\n",
       "      <td>171.460997</td>\n",
       "      <td>171.460997</td>\n",
       "      <td>0.018736</td>\n",
       "    </tr>\n",
       "    <tr>\n",
       "      <th>5</th>\n",
       "      <td>298.209992</td>\n",
       "      <td>0.033547</td>\n",
       "      <td>285.739672</td>\n",
       "      <td>285.739672</td>\n",
       "      <td>0.033961</td>\n",
       "    </tr>\n",
       "  </tbody>\n",
       "</table>\n",
       "</div>"
      ],
      "text/plain": [
       "          SPY   returns        norm    norm_ret   res_ret\n",
       "1  297.924988  0.011740  100.000000  100.000000  0.012152\n",
       "2  298.079987  0.052026  443.141047  443.141047  0.052610\n",
       "3  298.049988 -0.010064  -85.721870  -85.721870 -0.009318\n",
       "4  298.109985  0.020130  171.460997  171.460997  0.018736\n",
       "5  298.209992  0.033547  285.739672  285.739672  0.033961"
      ]
     },
     "execution_count": 48,
     "metadata": {},
     "output_type": "execute_result"
    }
   ],
   "source": [
    "df.head()"
   ]
  }
 ],
 "metadata": {
  "kernelspec": {
   "display_name": "Python 3",
   "language": "python",
   "name": "python3"
  },
  "language_info": {
   "codemirror_mode": {
    "name": "ipython",
    "version": 3
   },
   "file_extension": ".py",
   "mimetype": "text/x-python",
   "name": "python",
   "nbconvert_exporter": "python",
   "pygments_lexer": "ipython3",
   "version": "3.8.3"
  }
 },
 "nbformat": 4,
 "nbformat_minor": 4
}
